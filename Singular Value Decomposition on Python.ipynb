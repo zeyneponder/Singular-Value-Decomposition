{
 "cells": [
  {
   "cell_type": "markdown",
   "metadata": {},
   "source": [
    "![SVD](images/SVDD.png)\n",
    "\n",
    "Note that S is diagonal matrix with 𝜎1> 𝜎2 >....𝜎k >𝜎k+1..."
   ]
  },
  {
   "cell_type": "code",
   "execution_count": 1,
   "metadata": {},
   "outputs": [],
   "source": [
    "import numpy as np\n",
    "from numpy.linalg import svd\n",
    "from numpy import array\n",
    "from numpy import diag\n",
    "from numpy import zeros"
   ]
  },
  {
   "cell_type": "code",
   "execution_count": 2,
   "metadata": {},
   "outputs": [
    {
     "name": "stdout",
     "output_type": "stream",
     "text": [
      "(3, 3)\n",
      "(2,)\n",
      "(2, 2)\n"
     ]
    }
   ],
   "source": [
    "#Lets show how we can calculate SVD with numpy, and show above equation is true.\n",
    "#Lets define a 3x2 matrix as:\n",
    "X = array([[1, 2], [3, 4], [5, 6]])\n",
    "#Now using numpys linalg library, decomposite this matrix:\n",
    "U, s, VT = svd(X)\n",
    "print(U.shape)\n",
    "print(s.shape)\n",
    "print(VT.shape)"
   ]
  },
  {
   "cell_type": "code",
   "execution_count": 3,
   "metadata": {},
   "outputs": [
    {
     "name": "stdout",
     "output_type": "stream",
     "text": [
      "3x2 Sigma Matrix:\n",
      " [[0. 0.]\n",
      " [0. 0.]\n",
      " [0. 0.]] \n",
      "\n",
      "Diagonalized s matrix:\n",
      " [[9.52551809 0.        ]\n",
      " [0.         0.51430058]]\n"
     ]
    }
   ],
   "source": [
    "#Notice that in order to reconstruct matrix M, we need s as a mxn matrix but numpy's svd command gives us as a flat (2,). In this case we need it to be diagonal 3x2 matrix\n",
    "#First, create a 3x2(mxn) matrix\n",
    "Sigma=zeros(X.shape)  # X is our original mxn matrix\n",
    "print(\"3x2 Sigma Matrix:\\n\",Sigma,\"\\n\")\n",
    "#And lets diagonalize s\n",
    "s=diag(s)\n",
    "print(\"Diagonalized s matrix:\\n\",s)"
   ]
  },
  {
   "cell_type": "code",
   "execution_count": 4,
   "metadata": {},
   "outputs": [
    {
     "name": "stdout",
     "output_type": "stream",
     "text": [
      "[[9.52551809 0.        ]\n",
      " [0.         0.51430058]\n",
      " [0.         0.        ]]\n"
     ]
    }
   ],
   "source": [
    "#Now we need our diagonalized s matrix as 3x2 matrix\n",
    "#for this, we put s in Sigma's first n rows, which n is s' number of rows.\n",
    "Sigma[:s.shape[0]]=s\n",
    "print(Sigma)"
   ]
  },
  {
   "cell_type": "markdown",
   "metadata": {},
   "source": [
    "![SVD](images\\sinSigma.png)"
   ]
  },
  {
   "cell_type": "code",
   "execution_count": 5,
   "metadata": {},
   "outputs": [
    {
     "name": "stdout",
     "output_type": "stream",
     "text": [
      "Reconstructed matrix:\n",
      " [[1. 2.]\n",
      " [3. 4.]\n",
      " [5. 6.]]\n"
     ]
    }
   ],
   "source": [
    "#Since we have a 3x2 (mxn) diagonal Sigma matrix now, we simply reconstruct our original matrix X\n",
    "X_rec=U@Sigma@VT\n",
    "print(\"Reconstructed matrix:\\n\",X_rec)"
   ]
  },
  {
   "cell_type": "markdown",
   "metadata": {},
   "source": [
    "   ## Dimensionality Reduction with SVD"
   ]
  },
  {
   "cell_type": "markdown",
   "metadata": {},
   "source": [
    "We can approximate a huge matrix as sum of rank k matrixes\n",
    "\n",
    "![SVD](images\\sigma.png)\n",
    "\n",
    "Rank is maximum number of linearly independent columns of matrix."
   ]
  },
  {
   "cell_type": "code",
   "execution_count": 6,
   "metadata": {},
   "outputs": [],
   "source": [
    "#We can show this on our matrix X:\n",
    "#Lets define k as 1\n",
    "k=1\n",
    "X_approximate=U@Sigma[:,:k]@VT[:k,:]\n"
   ]
  },
  {
   "cell_type": "markdown",
   "metadata": {},
   "source": [
    "Note that we used k as a column index for Sigma, and row index for VT, in order to do dot product between matrixes.\n",
    "![SVD](images\\sigma2.png)"
   ]
  },
  {
   "cell_type": "code",
   "execution_count": 7,
   "metadata": {},
   "outputs": [
    {
     "data": {
      "text/plain": [
       "array([[1.35662819, 1.71846235],\n",
       "       [3.09719707, 3.92326845],\n",
       "       [4.83776596, 6.12807454]])"
      ]
     },
     "execution_count": 7,
     "metadata": {},
     "output_type": "execute_result"
    }
   ],
   "source": [
    "X_approximate\n",
    "#We can see that for rank=1, our approximation for our original matrix is:"
   ]
  },
  {
   "cell_type": "code",
   "execution_count": 8,
   "metadata": {},
   "outputs": [
    {
     "data": {
      "text/plain": [
       "array([[1., 2.],\n",
       "       [3., 4.],\n",
       "       [5., 6.]])"
      ]
     },
     "execution_count": 8,
     "metadata": {},
     "output_type": "execute_result"
    }
   ],
   "source": [
    "#For higher k, our approximation will be more accurate:\n",
    "k=2\n",
    "X_approximate=U@Sigma[:,:k]@VT[:k,:]\n",
    "X_approximate\n",
    "# We reconstructed our original matrix with k=2, notice that original matrix X has 2 linearly independent columns."
   ]
  },
  {
   "cell_type": "code",
   "execution_count": null,
   "metadata": {},
   "outputs": [],
   "source": []
  }
 ],
 "metadata": {
  "kernelspec": {
   "display_name": "Python 3",
   "language": "python",
   "name": "python3"
  },
  "language_info": {
   "codemirror_mode": {
    "name": "ipython",
    "version": 3
   },
   "file_extension": ".py",
   "mimetype": "text/x-python",
   "name": "python",
   "nbconvert_exporter": "python",
   "pygments_lexer": "ipython3",
   "version": "3.8.5"
  }
 },
 "nbformat": 4,
 "nbformat_minor": 4
}
